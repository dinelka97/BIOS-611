{
 "cells": [
  {
   "cell_type": "markdown",
   "id": "dd4f0092-565e-4132-bb24-9a52cebb5fc0",
   "metadata": {},
   "source": [
    "# Classification Problems"
   ]
  },
  {
   "cell_type": "code",
   "execution_count": 6,
   "id": "9827b2a6-7205-46e4-aeb1-e71c30291c11",
   "metadata": {},
   "outputs": [],
   "source": [
    "import pandas as pd"
   ]
  },
  {
   "cell_type": "code",
   "execution_count": 127,
   "id": "9c177f3c-8fed-4c57-848e-4e7e432f5c5e",
   "metadata": {},
   "outputs": [],
   "source": [
    "# parameters\n",
    "\n",
    "global_seed=805"
   ]
  },
  {
   "cell_type": "code",
   "execution_count": 342,
   "id": "a2997eac-8b59-43eb-bb35-2b37e78e1116",
   "metadata": {},
   "outputs": [
    {
     "name": "stdout",
     "output_type": "stream",
     "text": [
      "0      0\n",
      "1      0\n",
      "2      0\n",
      "3      0\n",
      "4      0\n",
      "      ..\n",
      "171    1\n",
      "172    1\n",
      "173    1\n",
      "174    1\n",
      "175    1\n",
      "Name: epi_pos, Length: 176, dtype: int64\n"
     ]
    }
   ],
   "source": [
    "# add a column to represent the season\n",
    "\n",
    "df = pd.read_csv(\"episode_word_counts.csv\")\n",
    "df['episode_tmp'] = df['Episode URL'].str[-7:-4].astype(int)-100\n",
    "\n",
    "season = ['1'] * 25 + ['2'] * 22 + ['3'] * 25 + ['4'] * 26 + ['5'] * 26 + ['6'] * 26 + ['7'] * 26\n",
    "epi_pos = [0] * int(df.shape[0]/2) + [1] * int(df.shape[0]/2)\n",
    "\n",
    "df['season'] = season\n",
    "df['epi_pos'] = epi_pos\n",
    "print(df['epi_pos'])"
   ]
  },
  {
   "cell_type": "code",
   "execution_count": 312,
   "id": "a98fed2d-5bc3-40ac-afa0-11d41be3e1af",
   "metadata": {},
   "outputs": [],
   "source": [
    "# setting up ADA Boosting\n",
    "\n",
    "from sklearn.model_selection import train_test_split\n",
    "from sklearn.ensemble import AdaBoostClassifier, GradientBoostingClassifier\n",
    "from sklearn import metrics\n",
    "from sklearn.preprocessing import LabelEncoder\n",
    "from sklearn.model_selection import GridSearchCV\n",
    "from sklearn.tree import DecisionTreeClassifier\n",
    "from sklearn.feature_extraction.text import CountVectorizer\n",
    "\n",
    "import matplotlib.pyplot as plt\n",
    "import numpy as np"
   ]
  },
  {
   "cell_type": "markdown",
   "id": "9cd05743-0460-447c-9cae-6ed96cc2ed81",
   "metadata": {},
   "source": [
    "## Predicting Season from the Word Count"
   ]
  },
  {
   "cell_type": "markdown",
   "id": "049ca3e7-ace7-41c0-8ac1-f75caf85caa8",
   "metadata": {},
   "source": [
    "I have performed ADA Boosting using both the default weak classifier 'Decision Tree', as well as using Gradient Boosting as the weak classifier. However, I have used multiple learning rates and n_estimators to determine the best set of parameters."
   ]
  },
  {
   "cell_type": "code",
   "execution_count": 346,
   "id": "04baca7c-311a-46b1-84b8-4b4585d04a33",
   "metadata": {},
   "outputs": [
    {
     "name": "stdout",
     "output_type": "stream",
     "text": [
      "Model Accuracy: 0.37735849056603776\n"
     ]
    }
   ],
   "source": [
    "## obtaining the X and Y matrices\n",
    "\n",
    "X = df.drop(columns=['Episode URL', 'season', 'epi_pos', 'episode_tmp'])\n",
    "Y = df['season']\n",
    "\n",
    "## test-train split (using a 70-30 split)\n",
    "\n",
    "X_train, X_test, y_train, y_test = \\\n",
    "    train_test_split(X, Y, test_size=0.3, random_state=global_seed)\n",
    "\n",
    "## build the ADA Boost model using default parameters\n",
    "\n",
    "ada_default = AdaBoostClassifier(algorithm = \"SAMME\", random_state=global_seed)\n",
    "\n",
    "## fit the model\n",
    "model = ada_default.fit(X_train, y_train)\n",
    "\n",
    "## test the model predictions\n",
    "y_pred = model.predict(X_test)\n",
    "\n",
    "## model accuracy (most simplest model)\n",
    "print(\"Model Accuracy:\", metrics.accuracy_score(y_test, y_pred))"
   ]
  },
  {
   "cell_type": "markdown",
   "id": "34949a87-a49a-410d-a82b-57c2c73dccfb",
   "metadata": {},
   "source": [
    "Not bad accuracy to begin with. Let's now start tingling with the learning rate and n_estimators of this model."
   ]
  },
  {
   "cell_type": "code",
   "execution_count": 348,
   "id": "c086cd05-0975-433b-9563-ec01764502e4",
   "metadata": {},
   "outputs": [
    {
     "name": "stdout",
     "output_type": "stream",
     "text": [
      "Best Parameters: {'learning_rate': 0.5, 'n_estimators': 100}\n",
      "Test Accuracy with Best Parameters: 0.39622641509433965\n"
     ]
    }
   ],
   "source": [
    "## set up the range of parameters we want to test on\n",
    "param_grid = {\n",
    "    'learning_rate': [0.01, 0.1, 0.5, 1, 1.5, 2],\n",
    "    'n_estimators': [50, 75, 100, 150, 200]\n",
    "}\n",
    "\n",
    "grid_search = GridSearchCV(estimator=model, param_grid=param_grid, cv=5, scoring='accuracy', n_jobs=-1)\n",
    "\n",
    "# Fit the model with the parameter grid\n",
    "grid_search.fit(X_train, y_train)\n",
    "\n",
    "# Get best parameters and model\n",
    "best_params = grid_search.best_params_\n",
    "best_model = grid_search.best_estimator_\n",
    "\n",
    "# Test on the test data\n",
    "y_pred = best_model.predict(X_test)\n",
    "accuracy = metrics.accuracy_score(y_test, y_pred)\n",
    "\n",
    "print(\"Best Parameters:\", best_params)\n",
    "print(\"Test Accuracy with Best Parameters:\", accuracy)"
   ]
  },
  {
   "cell_type": "markdown",
   "id": "927c9524-0e45-4126-a122-1f83b019e13c",
   "metadata": {},
   "source": [
    "We were only able to improve the model by an accuracy percentage of about 2%."
   ]
  },
  {
   "cell_type": "code",
   "execution_count": 322,
   "id": "8b4ef144-1fa5-4d6a-a44e-65922ecc3e35",
   "metadata": {},
   "outputs": [
    {
     "name": "stdout",
     "output_type": "stream",
     "text": [
      "\n",
      " Top 10 important words for predicting season:\n",
      "\n",
      "uss\n",
      "captain\n",
      "tasha\n",
      "right\n",
      "ready\n",
      "frequencies\n",
      "find\n",
      "twenty\n",
      "humanoid\n",
      "crusher\n",
      "wesley\n",
      "judgment\n",
      "number\n",
      "ten\n",
      "indeed\n",
      "vanish\n",
      "totally\n",
      "disappear\n",
      "pulaski\n"
     ]
    }
   ],
   "source": [
    "## extracting the features which best predict the season. Using the best model as found above.\n",
    "\n",
    "importances = best_model.feature_importances_\n",
    "\n",
    "# Map feature importances to words\n",
    "words = X.columns.to_numpy()\n",
    "important_words = words[np.where(importances > 0)]  # Sort words by importance, in descending order\n",
    "\n",
    "# top words to detect season\n",
    "print(\"\\n Top 10 important words for predicting season:\\n\")\n",
    "for word in important_words:\n",
    "    print(word)"
   ]
  },
  {
   "cell_type": "markdown",
   "id": "b099bc0f-402d-4041-bbf8-f8df2afa8fb5",
   "metadata": {},
   "source": [
    "## Detecting First or Second Half"
   ]
  },
  {
   "cell_type": "code",
   "execution_count": 356,
   "id": "84890ba7-6b0d-445f-8705-e9570b37d57e",
   "metadata": {},
   "outputs": [
    {
     "name": "stdout",
     "output_type": "stream",
     "text": [
      "Model Accuracy: 0.8113207547169812\n"
     ]
    }
   ],
   "source": [
    "## using the same pipeline as before\n",
    "## obtaining the X and Y matrices\n",
    "\n",
    "X = df.drop(columns=['Episode URL', 'season', 'epi_pos', 'episode_tmp'])\n",
    "Y = df['epi_pos']\n",
    "\n",
    "## test-train split (using a 70-30 split)\n",
    "\n",
    "X_train, X_test, y_train, y_test = \\\n",
    "    train_test_split(X, Y, test_size=0.3, random_state=global_seed)\n",
    "\n",
    "## build the ADA Boost model using default parameters\n",
    "\n",
    "ada_default = AdaBoostClassifier(algorithm = \"SAMME\", random_state=global_seed)\n",
    "\n",
    "## fit the model\n",
    "model = ada_default.fit(X_train, y_train)\n",
    "\n",
    "## test the model predictions\n",
    "y_pred = model.predict(X_test)\n",
    "\n",
    "## model accuracy (most simplest model)\n",
    "print(\"Model Accuracy:\", metrics.accuracy_score(y_test, y_pred))\n"
   ]
  },
  {
   "cell_type": "markdown",
   "id": "1d36296f-4001-44f3-ac60-ae53b74476e5",
   "metadata": {},
   "source": [
    "Now, that gives much better accuracy. Let's see if we can increase acccuracy by tuning parameters like before."
   ]
  },
  {
   "cell_type": "code",
   "execution_count": 364,
   "id": "e4039c5d-1917-47e3-82f5-ca3f5acae220",
   "metadata": {},
   "outputs": [
    {
     "name": "stdout",
     "output_type": "stream",
     "text": [
      "Best Parameters: {'learning_rate': 0.5, 'n_estimators': 200}\n",
      "Test Accuracy with Best Parameters: 0.8301886792452831\n"
     ]
    }
   ],
   "source": [
    "## set up the range of parameters we want to test on\n",
    "param_grid = {\n",
    "    'learning_rate': [0.01, 0.1, 0.5, 1, 1.5, 2],\n",
    "    'n_estimators': [50, 75, 100, 150, 200]\n",
    "}\n",
    "\n",
    "grid_search = GridSearchCV(estimator=model, param_grid=param_grid, cv=5, scoring='accuracy', n_jobs=-1)\n",
    "\n",
    "# Fit the model with the parameter grid\n",
    "grid_search.fit(X_train, y_train)\n",
    "\n",
    "# Get best parameters and model\n",
    "best_params = grid_search.best_params_\n",
    "best_model = grid_search.best_estimator_\n",
    "\n",
    "# Test on the test data\n",
    "y_pred = best_model.predict(X_test)\n",
    "accuracy = metrics.accuracy_score(y_test, y_pred)\n",
    "\n",
    "print(\"Best Parameters:\", best_params)\n",
    "print(\"Test Accuracy with Best Parameters:\", accuracy)"
   ]
  },
  {
   "cell_type": "markdown",
   "id": "f9421141-49e3-4682-a018-15d6c4e6c8f8",
   "metadata": {},
   "source": [
    "As before, we are able to only increase the accuracy by about 2% with the tuning of the parameters. Thus, the best model is that shown above."
   ]
  },
  {
   "cell_type": "code",
   "execution_count": 374,
   "id": "70c70a41-19f6-403c-81fb-74c46a39297d",
   "metadata": {},
   "outputs": [
    {
     "data": {
      "image/png": "[encoded data removed]",
      "text/plain": [
       "<Figure size 640x480 with 1 Axes>"
      ]
     },
     "metadata": {},
     "output_type": "display_data"
    },
    {
     "name": "stdout",
     "output_type": "stream",
     "text": [
      "The AUC using this model: 0.93\n"
     ]
    },
    {
     "data": {
      "text/plain": [
       "<Figure size 640x480 with 0 Axes>"
      ]
     },
     "metadata": {},
     "output_type": "display_data"
    }
   ],
   "source": [
    "## obtaining metrics (ROC, AUC) for the above model\n",
    "\n",
    "y_prob = best_model.predict_proba(X_test)[:,1]\n",
    "\n",
    "fpr, tpr, thresholds = metrics.roc_curve(y_test, y_prob)\n",
    "\n",
    "roc_auc = metrics.auc(fpr, tpr)\n",
    "\n",
    "## plotting the ROC curve\n",
    "\n",
    "plt.figure()\n",
    "plt.plot(fpr, tpr, color='darkorange', lw=2, label=f'ROC curve (area = {roc_auc:.2f})')\n",
    "plt.plot([0, 1], [0, 1], color='navy', lw=2, linestyle='--')\n",
    "plt.xlim([0.0, 1.0])\n",
    "plt.ylim([0.0, 1.05])\n",
    "plt.xlabel(\"False Positive Rate\")\n",
    "plt.ylabel(\"True Positive Rate\")\n",
    "plt.title(\"ROC Curve\", fontweight=\"bold\")\n",
    "plt.legend(loc='lower right')\n",
    "plt.show()\n",
    "\n",
    "plt.savefig(\"roc_curve.png\", format=\"png\", dpi=300)\n",
    "\n",
    "print(f\"The AUC using this model: {roc_auc:.2f}\")"
   ]
  }
 ],
 "metadata": {
  "kernelspec": {
   "display_name": "Python 3 (ipykernel)",
   "language": "python",
   "name": "python3"
  },
  "language_info": {
   "codemirror_mode": {
    "name": "ipython",
    "version": 3
   },
   "file_extension": ".py",
   "mimetype": "text/x-python",
   "name": "python",
   "nbconvert_exporter": "python",
   "pygments_lexer": "ipython3",
   "version": "3.12.7"
  }
 },
 "nbformat": 4,
 "nbformat_minor": 5
}
